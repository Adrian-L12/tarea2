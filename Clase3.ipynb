{
  "nbformat": 4,
  "nbformat_minor": 0,
  "metadata": {
    "colab": {
      "name": "Clase3",
      "provenance": [],
      "authorship_tag": "ABX9TyOXLfUuyHlAKSmeSuODsLQ0",
      "include_colab_link": true
    },
    "kernelspec": {
      "name": "python3",
      "display_name": "Python 3"
    }
  },
  "cells": [
    {
      "cell_type": "markdown",
      "metadata": {
        "id": "view-in-github",
        "colab_type": "text"
      },
      "source": [
        "<a href=\"https://colab.research.google.com/github/Adrian-L12/tarea2/blob/main/Clase3.ipynb\" target=\"_parent\"><img src=\"https://colab.research.google.com/assets/colab-badge.svg\" alt=\"Open In Colab\"/></a>"
      ]
    },
    {
      "cell_type": "markdown",
      "metadata": {
        "id": "UesBtDzi7UQ3"
      },
      "source": [
        "# Tema 05 "
      ]
    },
    {
      "cell_type": "markdown",
      "metadata": {
        "id": "8YWnMfh0C3GD"
      },
      "source": [
        "## indices en listas "
      ]
    },
    {
      "cell_type": "code",
      "metadata": {
        "colab": {
          "base_uri": "https://localhost:8080/"
        },
        "id": "z869aazg7WX_",
        "outputId": "1920e9af-a455-4dac-e5c5-617c29eadd8e"
      },
      "source": [
        "A = [89, 2, 3, 4, 5]\r\n",
        "A"
      ],
      "execution_count": null,
      "outputs": [
        {
          "output_type": "execute_result",
          "data": {
            "text/plain": [
              "[89, 2, 3, 4, 5]"
            ]
          },
          "metadata": {
            "tags": []
          },
          "execution_count": 5
        }
      ]
    },
    {
      "cell_type": "code",
      "metadata": {
        "colab": {
          "base_uri": "https://localhost:8080/"
        },
        "id": "9j773iwQD8Fg",
        "outputId": "29be67c7-0f57-4579-ff2c-827a546e5a68"
      },
      "source": [
        "A[0] = 1 \r\n",
        "A"
      ],
      "execution_count": null,
      "outputs": [
        {
          "output_type": "execute_result",
          "data": {
            "text/plain": [
              "[1, 2, 3, 4, 5]"
            ]
          },
          "metadata": {
            "tags": []
          },
          "execution_count": 7
        }
      ]
    },
    {
      "cell_type": "code",
      "metadata": {
        "colab": {
          "base_uri": "https://localhost:8080/"
        },
        "id": "GxKDLDHUEFtn",
        "outputId": "506400a1-6c1c-4929-ee8e-09e6cefc9aef"
      },
      "source": [
        "A[4] = 109\r\n",
        "A"
      ],
      "execution_count": null,
      "outputs": [
        {
          "output_type": "execute_result",
          "data": {
            "text/plain": [
              "[1, 2, 3, 4, 109]"
            ]
          },
          "metadata": {
            "tags": []
          },
          "execution_count": 8
        }
      ]
    },
    {
      "cell_type": "markdown",
      "metadata": {
        "id": "1XSH-AmxESDP"
      },
      "source": [
        "## Añadir elementos a listas "
      ]
    },
    {
      "cell_type": "code",
      "metadata": {
        "colab": {
          "base_uri": "https://localhost:8080/"
        },
        "id": "rShQuaVsEZ9Y",
        "outputId": "70c95d26-f54e-4ebe-bda5-4fa13d705c48"
      },
      "source": [
        "B = [1, 2, 3]\r\n",
        "B"
      ],
      "execution_count": null,
      "outputs": [
        {
          "output_type": "execute_result",
          "data": {
            "text/plain": [
              "[1, 2, 3]"
            ]
          },
          "metadata": {
            "tags": []
          },
          "execution_count": 13
        }
      ]
    },
    {
      "cell_type": "code",
      "metadata": {
        "colab": {
          "base_uri": "https://localhost:8080/"
        },
        "id": "bOSrnyEAElsQ",
        "outputId": "decf6056-1c42-4ecf-b8e0-bf48a79e1db1"
      },
      "source": [
        "B.append(4)\r\n",
        "B"
      ],
      "execution_count": null,
      "outputs": [
        {
          "output_type": "execute_result",
          "data": {
            "text/plain": [
              "[1, 2, 3, 4]"
            ]
          },
          "metadata": {
            "tags": []
          },
          "execution_count": 14
        }
      ]
    },
    {
      "cell_type": "code",
      "metadata": {
        "colab": {
          "base_uri": "https://localhost:8080/"
        },
        "id": "WgdiQoHtE1Mg",
        "outputId": "0e1cbb58-1644-4e42-b54f-1b67f2c94c95"
      },
      "source": [
        "C = []\r\n",
        "C"
      ],
      "execution_count": null,
      "outputs": [
        {
          "output_type": "execute_result",
          "data": {
            "text/plain": [
              "[]"
            ]
          },
          "metadata": {
            "tags": []
          },
          "execution_count": 24
        }
      ]
    },
    {
      "cell_type": "code",
      "metadata": {
        "colab": {
          "base_uri": "https://localhost:8080/"
        },
        "id": "O6M8GJ30E8uA",
        "outputId": "a89495a4-ccc5-4b8a-9483-f90fd98bf067"
      },
      "source": [
        "C.append([1, 2, 3])\r\n",
        "C"
      ],
      "execution_count": null,
      "outputs": [
        {
          "output_type": "execute_result",
          "data": {
            "text/plain": [
              "[[1, 2, 3]]"
            ]
          },
          "metadata": {
            "tags": []
          },
          "execution_count": 25
        }
      ]
    },
    {
      "cell_type": "code",
      "metadata": {
        "colab": {
          "base_uri": "https://localhost:8080/"
        },
        "id": "SuW1uaSNFQaX",
        "outputId": "f890a214-6a9d-4ffd-d353-65ecbe59fc58"
      },
      "source": [
        "C.append([4, 5, 6,])\r\n",
        "C.append([7, 8, 9])\r\n",
        "C"
      ],
      "execution_count": null,
      "outputs": [
        {
          "output_type": "execute_result",
          "data": {
            "text/plain": [
              "[[1, 2, 3], [4, 5, 6], [7, 8, 9]]"
            ]
          },
          "metadata": {
            "tags": []
          },
          "execution_count": 26
        }
      ]
    },
    {
      "cell_type": "code",
      "metadata": {
        "colab": {
          "base_uri": "https://localhost:8080/"
        },
        "id": "xSVekpOBFqLR",
        "outputId": "8ab4b19b-fe89-470a-cce8-5b8510d6bf4e"
      },
      "source": [
        "import numpy as np \r\n",
        "C = np.array(C)\r\n",
        "C"
      ],
      "execution_count": null,
      "outputs": [
        {
          "output_type": "execute_result",
          "data": {
            "text/plain": [
              "array([[1, 2, 3],\n",
              "       [4, 5, 6],\n",
              "       [7, 8, 9]])"
            ]
          },
          "metadata": {
            "tags": []
          },
          "execution_count": 27
        }
      ]
    },
    {
      "cell_type": "markdown",
      "metadata": {
        "id": "UuZFgSJrF3mq"
      },
      "source": [
        "## Operaciones a listas"
      ]
    },
    {
      "cell_type": "code",
      "metadata": {
        "colab": {
          "base_uri": "https://localhost:8080/"
        },
        "id": "wDP3TQiqF7qE",
        "outputId": "417723fc-b690-4dc6-dae1-97737bb5f6d0"
      },
      "source": [
        "print(C[2][2])"
      ],
      "execution_count": null,
      "outputs": [
        {
          "output_type": "stream",
          "text": [
            "9\n"
          ],
          "name": "stdout"
        }
      ]
    },
    {
      "cell_type": "code",
      "metadata": {
        "colab": {
          "base_uri": "https://localhost:8080/"
        },
        "id": "nDpxl8qSGlJI",
        "outputId": "86b1b406-d61b-43fe-ec12-5bfc8c722580"
      },
      "source": [
        "D = [1,2,3,4,5,6,7,8,9,10]\r\n",
        "D"
      ],
      "execution_count": null,
      "outputs": [
        {
          "output_type": "execute_result",
          "data": {
            "text/plain": [
              "[1, 2, 3, 4, 5, 6, 7, 8, 9, 10]"
            ]
          },
          "metadata": {
            "tags": []
          },
          "execution_count": 36
        }
      ]
    },
    {
      "cell_type": "code",
      "metadata": {
        "colab": {
          "base_uri": "https://localhost:8080/"
        },
        "id": "eIj6gmoMGzjo",
        "outputId": "e9c7c3a0-fce0-42ac-e306-ce274e32fe23"
      },
      "source": [
        "Suma = sum(D)\r\n",
        "Suma"
      ],
      "execution_count": null,
      "outputs": [
        {
          "output_type": "execute_result",
          "data": {
            "text/plain": [
              "55"
            ]
          },
          "metadata": {
            "tags": []
          },
          "execution_count": 38
        }
      ]
    },
    {
      "cell_type": "code",
      "metadata": {
        "colab": {
          "base_uri": "https://localhost:8080/"
        },
        "id": "TCRF1aknHIr5",
        "outputId": "2ff12ddf-b46f-46c7-d119-1b33f5d438af"
      },
      "source": [
        "Longitud = len(D)\r\n",
        "Longitud"
      ],
      "execution_count": null,
      "outputs": [
        {
          "output_type": "execute_result",
          "data": {
            "text/plain": [
              "10"
            ]
          },
          "metadata": {
            "tags": []
          },
          "execution_count": 40
        }
      ]
    },
    {
      "cell_type": "code",
      "metadata": {
        "colab": {
          "base_uri": "https://localhost:8080/"
        },
        "id": "Kbg-RrF2HSbw",
        "outputId": "7a007745-3e42-4109-9aa7-cda0f5020d28"
      },
      "source": [
        "Promedio = sum(D)/len(D)  #primera forma para sacr promedio de manera artesanal\r\n",
        "Promedio"
      ],
      "execution_count": null,
      "outputs": [
        {
          "output_type": "execute_result",
          "data": {
            "text/plain": [
              "5.5"
            ]
          },
          "metadata": {
            "tags": []
          },
          "execution_count": 41
        }
      ]
    },
    {
      "cell_type": "code",
      "metadata": {
        "colab": {
          "base_uri": "https://localhost:8080/"
        },
        "id": "1rMRLt3THjAx",
        "outputId": "213c5347-bf5a-4f9f-8451-af727afa10cd"
      },
      "source": [
        "import statistics as st   #metodo que lo calcula de manera automatica (por statistics)\r\n",
        "Promedio2 = st.mean(D)       # segunda forma \r\n",
        "Promedio2"
      ],
      "execution_count": null,
      "outputs": [
        {
          "output_type": "execute_result",
          "data": {
            "text/plain": [
              "5.5"
            ]
          },
          "metadata": {
            "tags": []
          },
          "execution_count": 42
        }
      ]
    },
    {
      "cell_type": "markdown",
      "metadata": {
        "id": "9bT30UYBINis"
      },
      "source": [
        "## listas con strings"
      ]
    },
    {
      "cell_type": "code",
      "metadata": {
        "colab": {
          "base_uri": "https://localhost:8080/"
        },
        "id": "djokTtfhIRqo",
        "outputId": "32988728-12e4-4219-a067-014853fb732e"
      },
      "source": [
        "Strings = ['abc', 'def', 'ghi', 'jkl']\r\n",
        "print(Strings[3][2])"
      ],
      "execution_count": null,
      "outputs": [
        {
          "output_type": "stream",
          "text": [
            "l\n"
          ],
          "name": "stdout"
        }
      ]
    },
    {
      "cell_type": "code",
      "metadata": {
        "colab": {
          "base_uri": "https://localhost:8080/"
        },
        "id": "25JYmE-qIecx",
        "outputId": "daeae740-2c06-46c0-da00-4f3aaedcb681"
      },
      "source": [
        "Longitud = len(Strings)\r\n",
        "Longitud"
      ],
      "execution_count": null,
      "outputs": [
        {
          "output_type": "execute_result",
          "data": {
            "text/plain": [
              "4"
            ]
          },
          "metadata": {
            "tags": []
          },
          "execution_count": 49
        }
      ]
    },
    {
      "cell_type": "code",
      "metadata": {
        "colab": {
          "base_uri": "https://localhost:8080/"
        },
        "id": "W7XLJfOFI_gx",
        "outputId": "dd2f01e8-9d6f-4e84-a40e-ca48706e9e6a"
      },
      "source": [
        "print(Strings[1:2])"
      ],
      "execution_count": null,
      "outputs": [
        {
          "output_type": "stream",
          "text": [
            "['def']\n"
          ],
          "name": "stdout"
        }
      ]
    },
    {
      "cell_type": "markdown",
      "metadata": {
        "id": "70HhtmTfJTHo"
      },
      "source": [
        "## Diccionarios"
      ]
    },
    {
      "cell_type": "code",
      "metadata": {
        "id": "8fwD0gVzJVnA"
      },
      "source": [
        "Datos_alumno = {\r\n",
        "    'nombre' : 'Adrian',\r\n",
        "    'Apellido' : 'Luna',\r\n",
        "    'matricula' : '19000829',\r\n",
        "    'Horario' : 'Matutino',\r\n",
        "    'Beca'  : 'si'\r\n",
        "\r\n",
        "\r\n",
        "}"
      ],
      "execution_count": null,
      "outputs": []
    },
    {
      "cell_type": "code",
      "metadata": {
        "colab": {
          "base_uri": "https://localhost:8080/"
        },
        "id": "fVWvTZbSJ92f",
        "outputId": "093b25db-d7c4-45bd-c78a-6d0b8726712b"
      },
      "source": [
        "print(Datos_alumno['matricula'])\r\n",
        "print(Datos_alumno['Apellido'])\r\n",
        "print(Datos_alumno['Beca'])"
      ],
      "execution_count": null,
      "outputs": [
        {
          "output_type": "stream",
          "text": [
            "19000829\n",
            "Luna\n",
            "si\n"
          ],
          "name": "stdout"
        }
      ]
    },
    {
      "cell_type": "code",
      "metadata": {
        "id": "NGZLcphWKai7"
      },
      "source": [
        "Datos_alumno.update({'Materias':['Fisica', 'Quimica', 'Programacion']})"
      ],
      "execution_count": null,
      "outputs": []
    },
    {
      "cell_type": "code",
      "metadata": {
        "colab": {
          "base_uri": "https://localhost:8080/"
        },
        "id": "3gAZrCGWK8Lk",
        "outputId": "e7c2cc8e-5946-4428-848c-6941114b4408"
      },
      "source": [
        "Datos_alumno"
      ],
      "execution_count": null,
      "outputs": [
        {
          "output_type": "execute_result",
          "data": {
            "text/plain": [
              "{'Apellido': 'Luna',\n",
              " 'Beca': 'si',\n",
              " 'Horario': 'Matutino',\n",
              " 'Materias': ['Fisica', 'Quimica', 'Programacion'],\n",
              " 'matricula': '19000829',\n",
              " 'nombre': 'Adrian'}"
            ]
          },
          "metadata": {
            "tags": []
          },
          "execution_count": 56
        }
      ]
    },
    {
      "cell_type": "code",
      "metadata": {
        "colab": {
          "base_uri": "https://localhost:8080/"
        },
        "id": "eTXhmAt6LA5s",
        "outputId": "e1cbc407-1825-4fa5-b30e-c3675974de38"
      },
      "source": [
        "print(Datos_alumno['Materias'])\r\n",
        "print(Datos_alumno['Materias'][0:2])"
      ],
      "execution_count": null,
      "outputs": [
        {
          "output_type": "stream",
          "text": [
            "['Fisica', 'Quimica', 'Programacion']\n",
            "['Fisica', 'Quimica']\n"
          ],
          "name": "stdout"
        }
      ]
    },
    {
      "cell_type": "markdown",
      "metadata": {
        "id": "obQzWg53MM5j"
      },
      "source": [
        "## Diccionarios anidados "
      ]
    },
    {
      "cell_type": "code",
      "metadata": {
        "id": "_J2oY2itMQHD"
      },
      "source": [
        "Pacientes = [\r\n",
        "    {\r\n",
        "     'Nombre':'Juan',\r\n",
        "     'Seguro':'Si',\r\n",
        "     'ID_seguro':'987654321',\r\n",
        "     'Covid':'Si',\r\n",
        "     'G_sanguineo':'AB+'\r\n",
        "    },\r\n",
        "\r\n",
        "    {\r\n",
        "     'Nombre':'Maria',\r\n",
        "     'Seguro':'Si',\r\n",
        "     'ID_seguro':'123456789',\r\n",
        "     'Covid':'No',\r\n",
        "     'G_sanguineo':'A+'\r\n",
        "    },\r\n",
        "\r\n",
        "    {\r\n",
        "     'Nombre':'Ernesto',\r\n",
        "     'Seguro':'No',\r\n",
        "     'ID_seguro':'N/A',\r\n",
        "     'Covid':'No',\r\n",
        "     'G_sanguineo':'B+',\r\n",
        "    }\r\n",
        "]\r\n"
      ],
      "execution_count": null,
      "outputs": []
    },
    {
      "cell_type": "code",
      "metadata": {
        "colab": {
          "base_uri": "https://localhost:8080/"
        },
        "id": "oelme1zLMviq",
        "outputId": "32c9388a-4354-453b-80ad-cc1c4058b86a"
      },
      "source": [
        "print(Pacientes[1]['Nombre'])\r\n",
        "print(Pacientes[1]['Seguro'])\r\n",
        "print(Pacientes[1]['ID_seguro'])"
      ],
      "execution_count": null,
      "outputs": [
        {
          "output_type": "stream",
          "text": [
            "Maria\n",
            "Si\n",
            "123456789\n"
          ],
          "name": "stdout"
        }
      ]
    },
    {
      "cell_type": "code",
      "metadata": {
        "colab": {
          "base_uri": "https://localhost:8080/"
        },
        "id": "fDb-zgJcNKYb",
        "outputId": "baca7e8c-21be-46d8-bd4c-b0b2e271884c"
      },
      "source": [
        "print(Pacientes[2]['Seguro'])\r\n",
        "print(Pacientes[2]['Covid'])\r\n",
        "print(Pacientes[2]['G_sanguineo'])"
      ],
      "execution_count": null,
      "outputs": [
        {
          "output_type": "stream",
          "text": [
            "No\n",
            "No\n",
            "B+\n"
          ],
          "name": "stdout"
        }
      ]
    },
    {
      "cell_type": "code",
      "metadata": {
        "colab": {
          "base_uri": "https://localhost:8080/"
        },
        "id": "wbQ-w5-HNL9g",
        "outputId": "f20642c4-657b-42b4-ba24-3284f6931f30"
      },
      "source": [
        "\r\n",
        "print(Pacientes[0]['G_sanguineo'])"
      ],
      "execution_count": null,
      "outputs": [
        {
          "output_type": "stream",
          "text": [
            "AB+\n"
          ],
          "name": "stdout"
        }
      ]
    },
    {
      "cell_type": "markdown",
      "metadata": {
        "id": "VZkDzeYKNzPv"
      },
      "source": [
        "## Tarea "
      ]
    },
    {
      "cell_type": "code",
      "metadata": {
        "colab": {
          "base_uri": "https://localhost:8080/"
        },
        "id": "-_h_HSMcN1eZ",
        "outputId": "16bb49b7-f1c2-4442-8972-7abaa19c5012"
      },
      "source": [
        "#placas, modelo, año \r\n",
        "\r\n",
        "# Auto 1 \r\n",
        "PL1=input('Placa 1:')\r\n",
        "MO1=input('Modelo 1:')\r\n",
        "AÑ1=input('Año 1:')\r\n",
        "\r\n",
        "# Auto 2\r\n",
        "PL2=input('Placa 2:')\r\n",
        "MO2=input('Modelo 2:')\r\n",
        "AÑ2=input('Año 2:')\r\n",
        "\r\n",
        "# Auto 3\r\n",
        "PL3=input('Placa 3:')\r\n",
        "MO3=input('Modelo 3:')\r\n",
        "AÑ3=input('Año 3:')\r\n",
        "\r\n",
        "# Auto 4\r\n",
        "PL4=input('Placa 4:')\r\n",
        "MO4=input('Modelo 4:')\r\n",
        "AÑ4=input('Año 4:')\r\n",
        "\r\n",
        "\r\n",
        "# Diccionario \r\n",
        "\r\n",
        "Automoviles=[{\r\n",
        "    'Placas': PL1,\r\n",
        "    'Modelo': MO1,\r\n",
        "    'Año': AÑ1,\r\n",
        "},\r\n",
        "{   'Placas': PL2,\r\n",
        "    'Modelo': MO2,\r\n",
        "    'Año': AÑ2,\r\n",
        "},\r\n",
        "{   'Placas': PL3,\r\n",
        "    'Modelo': MO3,\r\n",
        "    'Año': AÑ3,\r\n",
        "},\r\n",
        "{   'Placas': PL4,\r\n",
        "    'Modelo': MO4,\r\n",
        "    'Año': AÑ4,\r\n",
        "}\r\n",
        "]\r\n",
        "\r\n"
      ],
      "execution_count": null,
      "outputs": [
        {
          "output_type": "stream",
          "text": [
            "Placa 1:2812\n",
            "Modelo 1:Chevy\n",
            "Año 1:2020\n",
            "Placa 2:2819\n",
            "Modelo 2:camaro\n",
            "Año 2:2020\n",
            "Placa 3:2828\n",
            "Modelo 3:versa\n",
            "Año 3:2020\n",
            "Placa 4:2829\n",
            "Modelo 4:mustang\n",
            "Año 4:2020\n"
          ],
          "name": "stdout"
        }
      ]
    },
    {
      "cell_type": "code",
      "metadata": {
        "colab": {
          "base_uri": "https://localhost:8080/"
        },
        "id": "vxewRtCvUGWc",
        "outputId": "88cc701f-474a-45b8-9189-b4a053b3b7de"
      },
      "source": [
        "print(Automoviles[1]['Placas'])\r\n",
        "print(Automoviles[1]['Modelo'])\r\n",
        "print(Automoviles[1]['Año'])"
      ],
      "execution_count": null,
      "outputs": [
        {
          "output_type": "stream",
          "text": [
            "2819\n",
            "camaro\n",
            "2020\n"
          ],
          "name": "stdout"
        }
      ]
    }
  ]
}